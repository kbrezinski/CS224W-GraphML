{
  "nbformat": 4,
  "nbformat_minor": 0,
  "metadata": {
    "colab": {
      "name": "practice-GNNs.ipynb",
      "provenance": [],
      "authorship_tag": "ABX9TyPWToOQHeJnLnILPNdmrJ98",
      "include_colab_link": true
    },
    "kernelspec": {
      "name": "python3",
      "display_name": "Python 3"
    },
    "language_info": {
      "name": "python"
    },
    "accelerator": "GPU"
  },
  "cells": [
    {
      "cell_type": "markdown",
      "metadata": {
        "id": "view-in-github",
        "colab_type": "text"
      },
      "source": [
        "<a href=\"https://colab.research.google.com/github/kbrezinski/CS224W-GraphML/blob/main/notebooks/node2vec.ipynb\" target=\"_parent\"><img src=\"https://colab.research.google.com/assets/colab-badge.svg\" alt=\"Open In Colab\"/></a>"
      ]
    },
    {
      "cell_type": "code",
      "execution_count": null,
      "metadata": {
        "colab": {
          "base_uri": "https://localhost:8080/"
        },
        "id": "XUj6-TZK8kxW",
        "outputId": "04fbb942-38ec-4ff6-c69b-d90ea58b4455"
      },
      "outputs": [
        {
          "output_type": "stream",
          "name": "stdout",
          "text": [
            "1.11.0+cu113\n",
            "3.7.13\n"
          ]
        }
      ],
      "source": [
        "import torch\n",
        "print(torch.__version__)\n",
        "\n",
        "from platform import python_version\n",
        "print(python_version())"
      ]
    },
    {
      "cell_type": "code",
      "source": [
        "!pip install torch-scatter torch-sparse \\\n",
        " torch-cluster torch-spline-conv torch-geometric \\\n",
        "-f https://data.pyg.org/whl/torch-1.11.0+cu113.html -q\n",
        "#!pip install ogb"
      ],
      "metadata": {
        "colab": {
          "base_uri": "https://localhost:8080/"
        },
        "id": "I9RbKQyh8mU4",
        "outputId": "eb84b926-593d-4e12-93cf-9b5895bc8186"
      },
      "execution_count": null,
      "outputs": [
        {
          "output_type": "stream",
          "name": "stdout",
          "text": [
            "\u001b[K     |████████████████████████████████| 7.9 MB 51.2 MB/s \n",
            "\u001b[K     |████████████████████████████████| 3.5 MB 62.7 MB/s \n",
            "\u001b[K     |████████████████████████████████| 2.5 MB 67.8 MB/s \n",
            "\u001b[K     |████████████████████████████████| 750 kB 28.1 MB/s \n",
            "\u001b[K     |████████████████████████████████| 407 kB 31.2 MB/s \n",
            "\u001b[?25h  Building wheel for torch-geometric (setup.py) ... \u001b[?25l\u001b[?25hdone\n"
          ]
        }
      ]
    },
    {
      "cell_type": "code",
      "source": [
        "import os\n",
        "import torch_geometric.transforms as T\n",
        "\n",
        "from torch_geometric.datasets import Planetoid\n",
        "from torch_geometric.loader import DataLoader, NeighborLoader"
      ],
      "metadata": {
        "id": "H1dYLMRx8oPb"
      },
      "execution_count": null,
      "outputs": []
    },
    {
      "cell_type": "code",
      "source": [
        "transformation = False\n",
        "\n",
        "transform = T.Compose([\n",
        "    T.RandomNodeSplit('train_rest', num_val=500, num_test=500),\n",
        "    T.TargetIndegree(),\n",
        "    T.NormalizeFeatures(),\n",
        "])\n",
        "path = os.path.join('data', 'Cora')\n",
        "dataset = Planetoid(path,'Cora', transform=transform if transformation else None)  # transform is post download"
      ],
      "metadata": {
        "id": "J6893Edq-hTv",
        "outputId": "7530d080-9ed0-49af-9f3f-1f5c742c4f71",
        "colab": {
          "base_uri": "https://localhost:8080/"
        }
      },
      "execution_count": null,
      "outputs": [
        {
          "output_type": "stream",
          "name": "stderr",
          "text": [
            "Downloading https://github.com/kimiyoung/planetoid/raw/master/data/ind.cora.x\n",
            "Downloading https://github.com/kimiyoung/planetoid/raw/master/data/ind.cora.tx\n",
            "Downloading https://github.com/kimiyoung/planetoid/raw/master/data/ind.cora.allx\n",
            "Downloading https://github.com/kimiyoung/planetoid/raw/master/data/ind.cora.y\n",
            "Downloading https://github.com/kimiyoung/planetoid/raw/master/data/ind.cora.ty\n",
            "Downloading https://github.com/kimiyoung/planetoid/raw/master/data/ind.cora.ally\n",
            "Downloading https://github.com/kimiyoung/planetoid/raw/master/data/ind.cora.graph\n",
            "Downloading https://github.com/kimiyoung/planetoid/raw/master/data/ind.cora.test.index\n",
            "Processing...\n",
            "Done!\n"
          ]
        }
      ]
    },
    {
      "cell_type": "code",
      "source": [
        "# need to seperate loader for train and validate\n",
        "loader = NeighborLoader(dataset[0], num_neighbors=[80]*3)"
      ],
      "metadata": {
        "id": "CRUYxdZf-ugh"
      },
      "execution_count": null,
      "outputs": []
    },
    {
      "cell_type": "code",
      "source": [
        "import torch.nn.functional as F\n",
        "import torch_geometric.nn as nn\n",
        "\n",
        "class GCN(torch.nn.Module):\n",
        "  def __init__(self, in_channels, out_channels):\n",
        "    super().__init__()\n",
        "    self.conv1 = nn.GCNConv(in_channels, 16)\n",
        "    self.conv2 = nn.GCNConv(16, out_channels)\n",
        "\n",
        "  def forward(self, data):\n",
        "    x, edge_index = data.x, data.edge_index\n",
        "\n",
        "    x = self.conv1(x, edge_index)\n",
        "    x = F.relu(x)\n",
        "    x = F.dropout(x, training=self.training)\n",
        "    x = self.conv2(x, edge_index)\n",
        "\n",
        "    return F.log_softmax(x, dim=1)\n",
        "\n",
        "class GCNSeq(torch.nn.Module):\n",
        "  def __init__(self, in_channels, out_channels):\n",
        "    super().__init__()\n",
        "\n",
        "    self.model = nn.Sequential('x, edge_index', [\n",
        "            (nn.GCNConv(in_channels, 64), 'x, edge_index -> x'),\n",
        "            torch.nn.ReLU(inplace=True),\n",
        "            (nn.GCNConv(64, 64), 'x, edge_index -> x'),\n",
        "            torch.nn.ReLU(inplace=True),\n",
        "            torch.nn.Linear(64, out_channels),\n",
        "    ])\n",
        "\n",
        "  def forward(self, data):\n",
        "    x, edge_index = data.x, data.edge_index\n",
        "    x = self.model(x, edge_index)\n",
        "\n",
        "    return F.log_softmax(x, dim=1)\n",
        "\n"
      ],
      "metadata": {
        "id": "5RURS6AY-wOE"
      },
      "execution_count": null,
      "outputs": []
    },
    {
      "cell_type": "code",
      "source": [
        "device = torch.device('cuda' if torch.cuda.is_available() else 'cpu')\n",
        "model = GCN(in_channels=dataset.num_node_features,\n",
        "            out_channels=dataset.num_classes).to(device)\n",
        "\n",
        "model = nn.Node2Vec(edge_index=dataset[0].edge_index, embedding_dim=dataset.num_node_features, walk_length=4, context_size=2)\n",
        "optimizer = torch.optim.Adam(model.parameters(), lr=1e-2, weight_decay=5e-4)\n",
        "\n",
        "model.train()\n",
        "for epoch in range(100):\n",
        "  for batch in loader:\n",
        "\n",
        "    data = batch.to(device)\n",
        "    optimizer.zero_grad()  \n",
        "    out = model(data)\n",
        "    loss = F.nll_loss(out[batch.train_mask], data.y[batch.train_mask])\n",
        "    loss.backward()\n",
        "    optimizer.step()\n",
        "\n",
        "  if not epoch % 20:\n",
        "    model.eval()\n",
        "    pred = model().argmax(dim=1)\n",
        "    correct = (pred[data.test_mask] == data.y[data.test_mask]).sum()\n",
        "    acc = int(correct) / int(data.test_mask.sum())\n",
        "    print(f'Accuracy: {acc:.4f}')"
      ],
      "metadata": {
        "id": "fUD7_mc8Db9s",
        "outputId": "390d7a81-6aac-4e33-d927-5888e57bf0cf",
        "colab": {
          "base_uri": "https://localhost:8080/"
        }
      },
      "execution_count": null,
      "outputs": [
        {
          "output_type": "stream",
          "name": "stdout",
          "text": [
            "tensor(-0.0056, grad_fn=<NllLossBackward0>)\n",
            "tensor(-0.1122, grad_fn=<NllLossBackward0>)\n",
            "tensor(-0.2091, grad_fn=<NllLossBackward0>)\n",
            "tensor(-0.2916, grad_fn=<NllLossBackward0>)\n",
            "tensor(-0.3609, grad_fn=<NllLossBackward0>)\n"
          ]
        }
      ]
    },
    {
      "cell_type": "code",
      "source": [
        ""
      ],
      "metadata": {
        "id": "NPuEYm4pDwya"
      },
      "execution_count": null,
      "outputs": []
    }
  ]
}