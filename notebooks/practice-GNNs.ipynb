{
  "nbformat": 4,
  "nbformat_minor": 0,
  "metadata": {
    "colab": {
      "name": "practice-deep_encoders.ipynb",
      "provenance": [],
      "collapsed_sections": [],
      "authorship_tag": "ABX9TyMLf/94/WSZicTqWM9IijS5",
      "include_colab_link": true
    },
    "kernelspec": {
      "name": "python3",
      "display_name": "Python 3"
    },
    "language_info": {
      "name": "python"
    },
    "accelerator": "GPU"
  },
  "cells": [
    {
      "cell_type": "markdown",
      "metadata": {
        "id": "view-in-github",
        "colab_type": "text"
      },
      "source": [
        "<a href=\"https://colab.research.google.com/github/kbrezinski/CS224W-GraphML/blob/main/notebooks/practice-GNNs.ipynb\" target=\"_parent\"><img src=\"https://colab.research.google.com/assets/colab-badge.svg\" alt=\"Open In Colab\"/></a>"
      ]
    },
    {
      "cell_type": "code",
      "source": [
        "import torch\n",
        "print(torch.__version__)\n",
        "\n",
        "from platform import python_version\n",
        "print(python_version())"
      ],
      "metadata": {
        "colab": {
          "base_uri": "https://localhost:8080/"
        },
        "id": "PoPgxPsiEQan",
        "outputId": "54f3b03f-d554-4ffc-cfd0-3d500a1c4fcc"
      },
      "execution_count": null,
      "outputs": [
        {
          "output_type": "stream",
          "name": "stdout",
          "text": [
            "1.11.0+cu113\n",
            "3.7.13\n"
          ]
        }
      ]
    },
    {
      "cell_type": "code",
      "execution_count": null,
      "metadata": {
        "id": "fl1XYtbhC0_T",
        "colab": {
          "base_uri": "https://localhost:8080/"
        },
        "outputId": "7eb6a71c-455f-401f-b76e-06d3429fc227"
      },
      "outputs": [
        {
          "output_type": "stream",
          "name": "stdout",
          "text": [
            "\u001b[K     |████████████████████████████████| 7.9 MB 6.5 MB/s \n",
            "\u001b[K     |████████████████████████████████| 3.5 MB 47.6 MB/s \n",
            "\u001b[K     |████████████████████████████████| 2.5 MB 2.7 MB/s \n",
            "\u001b[K     |████████████████████████████████| 750 kB 45.6 MB/s \n",
            "\u001b[K     |████████████████████████████████| 407 kB 7.9 MB/s \n",
            "\u001b[?25h  Building wheel for torch-geometric (setup.py) ... \u001b[?25l\u001b[?25hdone\n"
          ]
        }
      ],
      "source": [
        "!pip install torch-scatter torch-sparse \\\n",
        " torch-cluster torch-spline-conv torch-geometric \\\n",
        "-f https://data.pyg.org/whl/torch-1.11.0+cu113.html -q\n",
        "#!pip install ogb"
      ]
    },
    {
      "cell_type": "code",
      "source": [
        "import os\n",
        "import numpy as np\n",
        "\n",
        "from torch_geometric.data import Dataset, Data, Batch\n",
        "from torch_geometric.loader import ClusterData, NeighborLoader, DataLoader"
      ],
      "metadata": {
        "id": "ckAz8Il1-Hhj"
      },
      "execution_count": null,
      "outputs": []
    },
    {
      "cell_type": "code",
      "source": [
        "# torch_geometric.data.batch.Batch \n",
        "# -creates batch of disconencted graphs from list\n",
        "\n",
        "# torch_geometric.data.data.Data\n",
        "# -creates single graph object\n",
        "\n",
        "# torch_geometric.data.cluster.ClusterData/ClusterLoader\n",
        "# -group nodes into smaller subgraphs and load them in batches for faster computation\n",
        "\n",
        "# torch_geometric.data.sampler.NeighborSampler\n",
        "# -samples specific number of nodes in neighbor\n",
        "# -sample training nodes only using node_idx"
      ],
      "metadata": {
        "id": "Uzi9_i6YVrc9"
      },
      "execution_count": null,
      "outputs": []
    },
    {
      "cell_type": "code",
      "source": [
        "import pickle\n",
        "\n",
        "rows = np.random.choice(100, 500)\n",
        "cols = np.random.choice(100, 500)\n",
        "\n",
        "data = dict(x = torch.rand((100, 16), dtype=torch.float), # 100 nodes, 16 features)\n",
        "            edge_index = torch.tensor([rows, cols]), # (2, 500) random edges\n",
        "            edge_attr = np.random.choice(3, 500), # 500 edges, choose from 0, 1 or 2\n",
        "            y = torch.rand(100).round().long(),\n",
        ")  \n",
        "\n",
        "g = Data(**data)"
      ],
      "metadata": {
        "id": "xIeTYcaxZJYa"
      },
      "execution_count": null,
      "outputs": []
    },
    {
      "cell_type": "code",
      "source": [
        "from torch_geometric.nn import MessagePassing\n",
        "\n",
        "class GCNConv(MessagePassing):\n",
        "  def __init__(self, in_channels, out_channels):\n",
        "    super().__init__(aggr='add')\n",
        "    self.lin = torch.nn.Linear(in_channels, out_channels)\n",
        "\n",
        "  def forward(self, x, edge_index):\n",
        "    # x = (N, in_channels)\n",
        "    # edge_index = (2, E)\n",
        "\n",
        "    # 1. Add self loops\n",
        "    edge_index, _ = add_self_loops(edge_index, num_nodes=x.size(0))\n",
        "    # 2. Linear tranformation\n",
        "    x = self.lin(x)\n",
        "    # 3. Normalization\n",
        "    row, col = edge_index\n",
        "    deg = degree(col, x.size(0), dtype=x.dtype)\n",
        "    deg_inv_sqrt = deg.pow(-0.5)\n",
        "    norm = deg_inv_sqrt[row] * deg_inv_sqrt[col]\n",
        "\n",
        "    # 4-5. Propogate messages\n",
        "    return self.propogate(edge_index, x=x, norm=norm)\n",
        "\n",
        "  def message(self, x_j, norm):\n",
        "    return norm.view(-1, 1) * x_j\n"
      ],
      "metadata": {
        "id": "DPTkupXCZidO"
      },
      "execution_count": null,
      "outputs": []
    }
  ]
}