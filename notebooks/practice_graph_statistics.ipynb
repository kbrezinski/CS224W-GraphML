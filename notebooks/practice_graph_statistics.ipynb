{
  "nbformat": 4,
  "nbformat_minor": 0,
  "metadata": {
    "colab": {
      "name": "practice-graph_statistics.ipynb",
      "provenance": [],
      "authorship_tag": "ABX9TyMKuC5moyns6GrQm5S3xgUQ",
      "include_colab_link": true
    },
    "kernelspec": {
      "name": "python3",
      "display_name": "Python 3"
    },
    "language_info": {
      "name": "python"
    }
  },
  "cells": [
    {
      "cell_type": "markdown",
      "metadata": {
        "id": "view-in-github",
        "colab_type": "text"
      },
      "source": [
        "<a href=\"https://colab.research.google.com/github/kbrezinski/CS224W-GraphML/blob/main/notebooks/practice_graph_statistics.ipynb\" target=\"_parent\"><img src=\"https://colab.research.google.com/assets/colab-badge.svg\" alt=\"Open In Colab\"/></a>"
      ]
    },
    {
      "cell_type": "code",
      "execution_count": 2,
      "metadata": {
        "colab": {
          "base_uri": "https://localhost:8080/"
        },
        "id": "35JQ0Vh3qBQw",
        "outputId": "d77ee49b-026b-4e70-a513-05849a721a79"
      },
      "outputs": [
        {
          "output_type": "stream",
          "name": "stdout",
          "text": [
            "1.11.0+cu113\n",
            "3.7.13\n"
          ]
        }
      ],
      "source": [
        "import torch\n",
        "from platform import python_version\n",
        "\n",
        "print(torch.__version__)\n",
        "print(python_version())"
      ]
    },
    {
      "cell_type": "code",
      "source": [
        "!pip install torch-scatter torch-sparse \\\n",
        " torch-cluster torch-spline-conv torch-geometric \\\n",
        "-f https://data.pyg.org/whl/torch-1.11.0+cu113.html -q\n",
        "#!pip install ogb"
      ],
      "metadata": {
        "colab": {
          "base_uri": "https://localhost:8080/"
        },
        "id": "9_23mQrdztXA",
        "outputId": "9ca35c7a-e3c5-4d10-99a2-fa28922a21c9"
      },
      "execution_count": 4,
      "outputs": [
        {
          "output_type": "stream",
          "name": "stdout",
          "text": [
            "\u001b[K     |████████████████████████████████| 7.9 MB 4.4 MB/s \n",
            "\u001b[K     |████████████████████████████████| 3.5 MB 22.4 MB/s \n",
            "\u001b[K     |████████████████████████████████| 2.5 MB 9.4 MB/s \n",
            "\u001b[K     |████████████████████████████████| 750 kB 41.2 MB/s \n",
            "\u001b[K     |████████████████████████████████| 407 kB 5.1 MB/s \n",
            "\u001b[?25h  Building wheel for torch-geometric (setup.py) ... \u001b[?25l\u001b[?25hdone\n"
          ]
        }
      ]
    },
    {
      "cell_type": "code",
      "source": [
        "import networkx as nx\n",
        "import torch_geometric\n",
        "from torch_geometric.datasets import Planetoid\n",
        "import matplotlib.pyplot as plt\n",
        "\n",
        "dataset = Planetoid('root', 'Cora')\n",
        "dataset = dataset[0]\n",
        "g = torch_geometric.utils.to_networkx(dataset)"
      ],
      "metadata": {
        "id": "HJGbii-jzzwp"
      },
      "execution_count": 14,
      "outputs": []
    },
    {
      "cell_type": "code",
      "source": [
        "node_degree = sorted((d for n, d in g.degree()), reverse=True)\n",
        "node_degree[:10]"
      ],
      "metadata": {
        "colab": {
          "base_uri": "https://localhost:8080/"
        },
        "id": "Ak7f5b9N1qXr",
        "outputId": "81e1e978-9d15-4756-e8bc-ac0115bb925d"
      },
      "execution_count": 18,
      "outputs": [
        {
          "output_type": "execute_result",
          "data": {
            "text/plain": [
              "[336, 156, 148, 130, 88, 84, 80, 72, 68, 66]"
            ]
          },
          "metadata": {},
          "execution_count": 18
        }
      ]
    },
    {
      "cell_type": "code",
      "source": [
        "plt.hist(node_degree, bins='auto')\n",
        "\n",
        "plt.xlabel('Degree Count')\n",
        "plt.ylabel('# of Nodes')\n",
        "plt.yscale('log')\n",
        "plt.show()"
      ],
      "metadata": {
        "colab": {
          "base_uri": "https://localhost:8080/",
          "height": 279
        },
        "id": "c-qYD5zR2ppe",
        "outputId": "15b24c83-aa9c-4433-9c39-803ddb119f56"
      },
      "execution_count": 26,
      "outputs": [
        {
          "output_type": "display_data",
          "data": {
            "text/plain": [
              "<Figure size 432x288 with 1 Axes>"
            ],
            "image/png": "[encoded data removed]"
          },
          "metadata": {
            "needs_background": "light"
          }
        }
      ]
    },
    {
      "cell_type": "code",
      "source": [
        "g_und = g.to_undirected()\n",
        "for C in (g_und.subgraph(c).copy() for c in nx.connected_components(g_und)):\n",
        "    print(nx.average_shortest_path_length(C))"
      ],
      "metadata": {
        "colab": {
          "base_uri": "https://localhost:8080/"
        },
        "id": "2KWF75Q739eQ",
        "outputId": "878722d6-e000-4dc0-f799-277ce696bd65"
      },
      "execution_count": 30,
      "outputs": [
        {
          "output_type": "stream",
          "name": "stdout",
          "text": [
            "6.310998681298742\n",
            "1.0\n",
            "1.0\n",
            "1.3\n",
            "3.2184615384615385\n",
            "1.6071428571428572\n",
            "1.0\n",
            "1.3333333333333333\n",
            "1.0\n",
            "1.3611111111111112\n",
            "1.0\n",
            "1.0\n",
            "1.6\n",
            "1.0\n",
            "1.0\n",
            "1.0\n",
            "1.0\n",
            "1.0\n",
            "1.0\n",
            "1.0\n",
            "1.0\n",
            "1.3333333333333333\n",
            "1.0\n",
            "1.1666666666666667\n",
            "1.0\n",
            "1.0\n",
            "1.0\n",
            "1.0\n",
            "1.0\n",
            "1.0\n",
            "1.0\n",
            "1.0\n",
            "1.6666666666666667\n",
            "1.0\n",
            "1.0\n",
            "1.0\n",
            "1.0\n",
            "1.6\n",
            "1.0\n",
            "1.0\n",
            "1.0\n",
            "1.3333333333333333\n",
            "1.0\n",
            "1.0\n",
            "1.0\n",
            "1.0\n",
            "1.0\n",
            "1.0\n",
            "1.0\n",
            "1.0\n",
            "1.3333333333333333\n",
            "1.1666666666666667\n",
            "1.0\n",
            "1.0\n",
            "1.0\n",
            "1.0\n",
            "1.0\n",
            "1.0\n",
            "1.0\n",
            "1.0\n",
            "1.0\n",
            "1.0\n",
            "1.0\n",
            "1.0\n",
            "1.0\n",
            "1.0\n",
            "1.0\n",
            "1.0\n",
            "1.3\n",
            "1.0\n",
            "1.0\n",
            "1.0\n",
            "1.0\n",
            "1.0\n",
            "1.0\n",
            "1.0\n",
            "1.6666666666666667\n",
            "1.0\n"
          ]
        }
      ]
    },
    {
      "cell_type": "code",
      "source": [
        ""
      ],
      "metadata": {
        "id": "7igMT-2SKc99"
      },
      "execution_count": null,
      "outputs": []
    }
  ]
}